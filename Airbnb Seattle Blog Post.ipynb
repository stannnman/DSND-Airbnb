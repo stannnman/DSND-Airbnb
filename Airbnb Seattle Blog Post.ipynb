{
 "cells": [
  {
   "cell_type": "markdown",
   "metadata": {},
   "source": [
    "# Airbnb Seattle 2016 - taking a trip through the data #\n",
    "\n",
    "*by Peter Staunton, Data Science Enthusiast*\n",
    "<br/>\n",
    "<img width=\"800\" src=\"https://github.com/stannnman/airbnb/blob/master/city-skyline.jpg?raw=true\"/>\n",
    "\n",
    "In recent years, Airbnb has revolutionized the short-stay accommodation market, connecting hosts and guests around the world through a highly interactive online platform.\n",
    "\n",
    "Top of mind for most potential guests is value for money, so we're going to explore some questions relating to  price of accommodation on Airbnb. This brief excursion uses data shared by Airbnb on the [Kaggle](https://www.kaggle.com) data science platform, covering the city of Seattle and the year 2016. This study is part of a project I am undertaking for the Udacity [Become a Data Scientist](https://eu.udacity.com/course/data-scientist-nanodegree--nd025) nanodegree.\n",
    "\n",
    "We seek to answer the following questions of interest to guests:\n",
    "1. What are the five most expensive neighbourhoods in Seattle for Airbnb?\n",
    "2. What is the most expensive time of year to visit Seattle?\n",
    "3. What factors can influence the price of an Airbnb listing?"
   ]
  },
  {
   "cell_type": "markdown",
   "metadata": {},
   "source": [
    "## Most Expensive Neighbourhoods ##\n",
    "\n",
    "As with any town or city, attractiveness of different areas will naturally vary based on a collection of different factors such as proximity to attractions, public transport, safety, local vibe and so forth. So which neighbourhoods are the priciest to stay in with Airbnb?\n",
    "\n",
    "Our analysis looked at each area and calculated the average price across all property types (house, apartment etc.), producing the top-5 list below. Referring to a neighbourhood map of Seattle, we can see that all of these areas are located downtown and westward towards the sea.\n",
    "\n",
    "<table>\n",
    "    <tr>\n",
    "        <td bgcolor=\"#FFFFFF\" style=\"text-align:justify\">\n",
    "            <br/><br/>\n",
    "            <table>\n",
    "                <tr><th>Neighbourhood</th><th>Avg Price</th></tr>\n",
    "                <tr><td>Magnolia</td><td>&#36;178</td></tr>\n",
    "                <tr><td>Queen Anne</td><td>&#36;157</td></tr>\n",
    "                <tr><td>Downtown</td><td>&#36;154</td></tr>\n",
    "                <tr><td>West Seattle</td><td>&#36;141</td></tr>\n",
    "                <tr><td>Cascade</td><td>&#36;140</td></tr> \n",
    "            </table>\n",
    "        </td>\n",
    "        <td width=\"20%\" bgcolor=\"#FFFFFF\"/>\n",
    "        <td>\n",
    "            <img height=\"500\" width=\"250\" src=\"http://www.mappery.com/maps/Seattle-Neighborhood-Map.gif\"/>\n",
    "            image source: mappery.com\n",
    "        </td>\n",
    "    </tr>\n",
    "</table>"
   ]
  },
  {
   "cell_type": "markdown",
   "metadata": {},
   "source": [
    "## Most Expensive Time of Year ##\n",
    "\n",
    "When are you likely to pay most for your Airbnb rental and when might better deals be available?\n",
    "\n",
    "To answer this, we looked at daily price of Airbnb listings and how they varied by date during the course of the year 2016.\n",
    "\n",
    "<img src=\"https://github.com/stannnman/airbnb/blob/master/airbnb_seattle_avg_price_by_date.png?raw=true\"/>\n",
    "\n",
    "We can see clearly that July and August are the most expensive months, coinciding with summer holiday season.\n",
    "\n",
    "The single most expensive date in 2016 was the 1st July with an average rental price of $157.\n",
    "\n",
    "If you'd like to visit Seattle on a tight budget, then Jan-Mar and Oct-Nov are low-season when you're more likely to grab a better deal."
   ]
  },
  {
   "cell_type": "markdown",
   "metadata": {},
   "source": [
    "## Other Factors to Consider ##\n",
    "\n",
    "Curious to explore what other factors might affect the price, we selected a subset of listing attributes to examine more closely. We produced the heatmap below, which shows how attributes are aligned, with dark colours indicating low alignment and brighter colours indicating a stronger relationship.\n",
    "\n",
    "<img src=\"https://github.com/stannnman/airbnb/blob/master/airbnb_seattle_correlation_heatmap.png?raw=true\"/>\n",
    "\n",
    "We find that the number of people a property can accommodate is the most influential factor on price, which is not altogether unsurprising.\n",
    "\n",
    "Secondary to this, a host with a higher number of listings will tend to have listings that are set at a higher price. To rationalise this, we could speculate that these hosts are management companies who focus on higher value properties, or perhaps whose commission pushes up the price.\n",
    "\n",
    "Another secondary factor is longitude (with an inverse relationship). As longitude decreases as you go west, this would suggest that properties located more westerly (closer to the sea) tend to have higher prices. This is in line with our earlier finding that the five most expensive neighbourhoods are close to the sea on the west side of Seattle.\n",
    "\n",
    "Other factors we looked at have a much lower bearing on price and do not warrant further analysis at this point."
   ]
  },
  {
   "cell_type": "markdown",
   "metadata": {},
   "source": [
    "## Conclusion ##\n",
    "\n",
    "Our short trip through the data has uncovered some interesting insights relating to the price of Airbnb listings in Seattle. In summary, if you'd like to find better deals for your stay, plan to stay in eastern neighbourhoods during the low seasons of Jan-Mar and Oct-Nov, and seek out properties where the host has a low number of properties to their name.\n",
    "\n",
    "If you'd like to dig deeper, you can find the technical details in my github repository [here](https://github.com/stannnman/airbnb).\n",
    "\n",
    "Happy travelling!"
   ]
  }
 ],
 "metadata": {
  "kernelspec": {
   "display_name": "Python 3",
   "language": "python",
   "name": "python3"
  },
  "language_info": {
   "codemirror_mode": {
    "name": "ipython",
    "version": 3
   },
   "file_extension": ".py",
   "mimetype": "text/x-python",
   "name": "python",
   "nbconvert_exporter": "python",
   "pygments_lexer": "ipython3",
   "version": "3.6.3"
  }
 },
 "nbformat": 4,
 "nbformat_minor": 2
}
